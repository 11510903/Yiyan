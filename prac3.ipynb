{
 "cells": [
  {
   "cell_type": "markdown",
   "metadata": {},
   "source": [
    "# Introduction to Artificial Intelligence for Non Computing"
   ]
  },
  {
   "cell_type": "markdown",
   "metadata": {},
   "source": [
    "## Practical 3 (weeks 5 - 6)"
   ]
  },
  {
   "cell_type": "markdown",
   "metadata": {},
   "source": [
    "The following links provide additional information about data analysis , machine learning and Numpy"
   ]
  },
  {
   "cell_type": "markdown",
   "metadata": {},
   "source": [
    "Python data analysis: https://www.imooc.com/learn/843\n",
    "machine learning: https://www.imooc.com/learn/717\n",
    "Numpy :https://www.imooc.com/learn/943"
   ]
  },
  {
   "cell_type": "markdown",
   "metadata": {},
   "source": [
    "#### Theory Questions"
   ]
  },
  {
   "cell_type": "markdown",
   "metadata": {},
   "source": [
    "1\\.Which of the following are true and which are false? Give brief explanations.\n",
    "- a. In a fully observable, turn-taking, zero-sum game between two perfectly rational players,it does not help the first player to know what strategy the second player is using—that is, what move the second player will make, given the first player's move.\n",
    "- b. In a partially observable, turn-taking, zero-sum game between two perfectly rational players, it does not help the first player to know what move the second player will make, given the first player's move.\n",
    "- c. A perfectly rational backgammon agent never loses.\n",
    "\n",
    "See textbook Chapter6 24.6"
   ]
  },
  {
   "cell_type": "markdown",
   "metadata": {},
   "source": [
    "_your answer here..._ \n",
    "a. True. The second player will play optimally, and so is perfectly predictable up to ties. Kowning which os two equally good moves the opponent will make does not change the value of the game to the first player.\n",
    "b. False. In a partially observable game,knowing the second player's move tells the first player additional information about the game state that would otherwise be available only to the second player.\n",
    "c. False. Backgammon is a game of chance, and the opponent may consistently roll much better dice. The correct statement is that the expected winnings are optimal.\n",
    "***"
   ]
  },
  {
   "cell_type": "markdown",
   "metadata": {},
   "source": [
    "2\\.Define in your own words the terms constraint, backtracking search, arc consistency,backjumping, min-conflicts, and cycle cutset.\n",
    "\n",
    "See textbook Chapter6 6.16"
   ]
  },
  {
   "cell_type": "markdown",
   "metadata": {},
   "source": [
    "_your answer here..._ \n",
    "constraint: it is a restriction on the possible values of two or more variables.\n",
    "backtracking search: a kind of DFS. For a certain search tree, the difference is that backtracking is not in the solution process. The complete tree structure is perserved, while DFS records the complete search tree.\n",
    "arc consistency; A directed arc fro variable A to B in a CSP is arc consistency if, for every value in the current domain of A, there is some consistent value of B.\n",
    "backjumping: is a way of making backtracking search more efficient, by jumping back ore than one level when a dead end is searched.\n",
    "min-conflicts:a heuristic for use with local search on CSP problems. The heuristic says that, when given a variable to modify, choose the value that conflicts with the fewwst number of other variables. \n",
    "cycle cutset: a set of variables which when removed from the constraint graph make it acyclic. When the variables of a cycle cutset are instaintiated the remainder of the CSP can be solved in linear time.\n",
    "***"
   ]
  },
  {
   "cell_type": "markdown",
   "metadata": {},
   "source": [
    "3\\.Explain why it is a good heuristic to choose the variable that is most constrained but the value that is least constraining in a CSP search.\n",
    "\n",
    "See textbook Chapter6 6.9"
   ]
  },
  {
   "cell_type": "markdown",
   "metadata": {},
   "source": [
    "_your answer here..._ \n",
    "The most constrained variable makes sense because it chooses a variable that is likely to cause a failture, and it is more efficient to fail as early ass possible. The least constraining value heuristic makes sense because it allows the most chances for future assignments to avoid conflict.\n",
    "***"
   ]
  },
  {
   "cell_type": "markdown",
   "metadata": {},
   "source": [
    "4\\.Consider the following procedure for choosing moves in games with chance nodes: \n",
    "- 1、Generate some dice-roll sequences (say, 50) down to a suitable depth (say, 8).\n",
    "- 2、With known dice rolls, the game tree becomes deterministic. For each dice-roll sequence,solve the resulting deterministic game tree using alpha-beta.\n",
    "- 3、Use the results to estimate the value of each move and to choose the best.Will this procedure work well? Why (or why not)?\n",
    "\n",
    "See textbook Chapter5 5.19"
   ]
  },
  {
   "cell_type": "markdown",
   "metadata": {},
   "source": [
    "_your answer here..._ \n",
    "The procedure will give incorrect results. Mathematically, the procedure amounts to assuming that averaging commutes with min and max, which it does not intuitively, the choices made by each player in the deterministic trees are based on full knowledge of future dice rolls, and bear no necessary relationship to the moves made without such knowlegde.\n",
    "***"
   ]
  },
  {
   "cell_type": "markdown",
   "metadata": {},
   "source": [
    "5\\. Now,please consider this game:  there are three plates A, B and C, each plate has three bills. A puts 1, 20, 50; B puts 5, 10, 100; C puts 1, 5, 20. All units are \"Yuan\". There are two persons A and B, and two of them can check out three plates and banknotes .（ A is ourself, The other is B）\n",
    "The game is divided into three steps: \n",
    "- 1、A select a plate from three plate.\n",
    "- 2、B take out two banknotes from A selected plate,and give the  banknotes to A.  \n",
    "- 3、A take one of the two banknotes, and take it away.among,A want to get the max banknotes, B want to let A to get the min.\n",
    "\n",
    "Try to understand the minimax algorithm，you can click the link:https://blog.csdn.net/tangchenyi/article/details/22920031"
   ]
  },
  {
   "cell_type": "markdown",
   "metadata": {},
   "source": [
    "_your answer here..._ \n",
    "\n",
    "***"
   ]
  },
  {
   "cell_type": "markdown",
   "metadata": {},
   "source": [
    "### Programming Excercises"
   ]
  },
  {
   "cell_type": "markdown",
   "metadata": {},
   "source": [
    "1\\. Guess number(Single number): please generate a randomly number  with the function (random), then ask someone to guess the number,I think we should give the corresponding hint, otherwise it will be very difficult to guess the number.the game will be over untill you get the right number."
   ]
  },
  {
   "cell_type": "code",
   "execution_count": 3,
   "metadata": {},
   "outputs": [
    {
     "name": "stdout",
     "output_type": "stream",
     "text": [
      "Hello! What is your name?\n",
      "y\n",
      "Well, y, I am thinking of a number between 1 and 20.\n",
      "Take a guess.\n",
      "5\n",
      "Your guess is too low.\n",
      "Take a guess.\n",
      "8\n",
      "Your guess is too low.\n",
      "Take a guess.\n",
      "12\n",
      "Your guess is too low.\n",
      "Take a guess.\n",
      "20\n",
      "Your guess is too high.\n",
      "Take a guess.\n",
      "15\n",
      "Your guess is too low.\n",
      "Take a guess.\n",
      "17\n",
      "Your guess is too high.\n",
      "Nope. The number I was thinking of was 16\n"
     ]
    }
   ],
   "source": [
    "## write your answer here!\n",
    "# This is a guess the number game.\n",
    "import random\n",
    "\n",
    "guessesTaken = 0\n",
    "\n",
    "print('Hello! What is your name?')\n",
    "myName = input()\n",
    "\n",
    "number = random.randint(1, 20)\n",
    "print('Well, ' + myName + ', I am thinking of a number between 1 and 20.')\n",
    "\n",
    "while guessesTaken < 6:\n",
    "    print('Take a guess.') # There are four spaces in front of print.\n",
    "    guess = input()\n",
    "    guess = int(guess)\n",
    "\n",
    "    guessesTaken = guessesTaken + 1\n",
    "\n",
    "    if guess < number:\n",
    "        print('Your guess is too low.') # There are eight spaces in front of print.\n",
    "\n",
    "    if guess > number:\n",
    "        print('Your guess is too high.')\n",
    "\n",
    "    if guess == number:\n",
    "        break\n",
    "\n",
    "if guess == number:\n",
    "    guessesTaken = str(guessesTaken)\n",
    "    print('Good job, ' + myName + '! You guessed my number in ' + guessesTaken + ' guesses!')\n",
    "\n",
    "if guess != number:\n",
    "    number = str(number)\n",
    "    print('Nope. The number I was thinking of was ' + number)"
   ]
  },
  {
   "cell_type": "markdown",
   "metadata": {},
   "source": [
    "2\\.if you had understand the guess single number games,Congratulates,next is the guess three number games,Maybe you can do it well.But this is a different way of thinking. \n",
    "first : we need generate three numbers,there are most ten times chances give  you to guess the number,of course,we also give you some cue.\n",
    "\n",
    "- 'When I say:-->It means:\n",
    "- 'error--> The 3 numbers are not in the mystical numbers.'\n",
    "- 'Only the number is correct --> the number is right , but the position is not right.'\n",
    "- 'Absolutely right--> numbers is right and the position also right.'\n",
    "\n",
    "Maybe it's better for you to understand the rule well through see the picture.\n",
    "<div style=\"float:left;\" ><img src=\"img/p1.png\" width=\"400\" height=\"300\" >"
   ]
  },
  {
   "cell_type": "code",
   "execution_count": null,
   "metadata": {},
   "outputs": [],
   "source": [
    "## write your answer here!\n",
    "import random\n",
    "\n",
    "guessesTaken = 0\n",
    "\n",
    "number1 = random.randint(1, 10)\n",
    "number2 = random.randint(1, 10)\n",
    "number3 = random.randint(1, 10)\n",
    "print( I am thinking of 3 numbers between 1 and 10.)\n",
    "\n",
    "while guessesTaken < 6:\n",
    "    print('Take a guess.') # There are four spaces in front of print.\n",
    "    guess = [input(),input(),input()] \n",
    "    guess = int(guess)\n",
    "\n",
    "    guessesTaken = guessesTaken + 1\n",
    "\n",
    "    if guess[1] != number1:\n",
    "        if guess[2] != number2:\n",
    "            if guess[3] != number3:\n",
    "                print(\"error\",\"error\",\"error\") # There are eight spaces in front of print.\n",
    "\n",
    "\n",
    "if guess[1] == number1:\n",
    "    if guess[2] == number2:\n",
    "        if guess[3] == number3:\n",
    "            guessesTaken = str(guessesTaken)\n",
    "            print(\"Absolutely right\",\"Absolutely right\",\"Absolutely right\")\n",
    "\n"
   ]
  },
  {
   "cell_type": "markdown",
   "metadata": {},
   "source": [
    "3\\.please try using Python's Tkinter to make a visual interface（GUI）.if you don't know anything.Maybe you can refer to the below interface.and implement it by code.\n",
    "\n",
    "<div style=\"float:left;\" ><img src=\"img/p2.png\" width=\"200\" height=\"200\" >"
   ]
  },
  {
   "cell_type": "code",
   "execution_count": null,
   "metadata": {},
   "outputs": [],
   "source": [
    "## write your answer here!\n",
    "#!/usr/bin/python\n",
    "\n",
    "import tkinter as tk\n",
    "\n",
    "class Application(tk.Frame):\n",
    "    def __init__(self, master=None):\n",
    "        super().__init__(master)\n",
    "        self.pack()\n",
    "        self.create_widgets()\n",
    "\n",
    "    def create_widgets(self):\n",
    "        self.hi_there = tk.Button(self)\n",
    "        self.hi_there[\"text\"] = \"Java\\nC\\npython\"\n",
    "        self.hi_there.pack(side=\"top\")\n",
    "\n",
    "root = tk.Tk()\n",
    "app = Application(master=root)\n",
    "app.mainloop()"
   ]
  },
  {
   "cell_type": "markdown",
   "metadata": {},
   "source": [
    "4\\.Through the initial trial of Tkinter,    please write a simple calculator.\n",
    "\n",
    "<div style=\"float:left;\" ><img src=\"img/p3.png\" width=\"180\" height=\"200\" center=\"left\"></div>\n",
    "<div style=\"float:left;\" ><img src=\"img/p4.png\" width=\"180\" height=\"200\" center=\"right\" ></div>"
   ]
  },
  {
   "cell_type": "code",
   "execution_count": null,
   "metadata": {},
   "outputs": [
    {
     "name": "stdout",
     "output_type": "stream",
     "text": [
      "Please select operation -\n",
      "1. Add\n",
      "2. Subtract\n",
      "3. Multiply\n",
      "4. Divide\n",
      "\n"
     ]
    }
   ],
   "source": [
    "## write your answer here!\n",
    "\n",
    "# Python program for simple calculator \n",
    "  \n",
    "# Function to add two numbers  \n",
    "def add(num1, num2): \n",
    "    return num1 + num2 \n",
    "  \n",
    "# Function to subtract two numbers  \n",
    "def subtract(num1, num2): \n",
    "    return num1 - num2 \n",
    "  \n",
    "# Function to multiply two numbers \n",
    "def multiply(num1, num2): \n",
    "    return num1 * num2 \n",
    "  \n",
    "# Function to divide two numbers \n",
    "def divide(num1, num2): \n",
    "    return num1 / num2 \n",
    "  \n",
    "print(\"Please select operation -\\n\" \n",
    "        \"1. Add\\n\"  \n",
    "        \"2. Subtract\\n\" \n",
    "        \"3. Multiply\\n\"\n",
    "        \"4. Divide\\n\") \n",
    "  \n",
    "  \n",
    "# Take input from the user  \n",
    "select = input(\"Select operations form 1, 2, 3, 4 :\") \n",
    "  \n",
    "number_1 = int(input(\"Enter first number: \")) \n",
    "number_2 = int(input(\"Enter second number: \")) \n",
    "  \n",
    "if select == '1': \n",
    "    print(number_1, \"+\", number_2, \"=\", \n",
    "                    add(number_1, number_2)) \n",
    "  \n",
    "elif select == '2': \n",
    "    print(number_1, \"-\", number_2, \"=\", \n",
    "                    subtract(number_1, number_2)) \n",
    "  \n",
    "elif select == '3': \n",
    "    print(number_1, \"*\", number_2, \"=\", \n",
    "                    multiply(number_1, number_2)) \n",
    "  \n",
    "elif select == '4': \n",
    "    print(number_1, \"/\", number_2, \"=\", \n",
    "                    divide(number_1, number_2)) \n",
    "else: \n",
    "    print(\"Invalid input\") "
   ]
  },
  {
   "cell_type": "markdown",
   "metadata": {},
   "source": [
    "5\\.Ball game:Python's pinball game, which can realize the game function of the keyboard control bottom baffle moving collision ball similar to table tennis game. \n",
    "\n",
    "<div style=\"float:left;\" ><img src=\"img/p5.png\" width=\"200\" height=\"200\" center=\"left\"></div>\n",
    "<div style=\"float:left;\" ><img src=\"img/p6.png\" width=\"200\" height=\"200\" center=\"right\" ></div>\n"
   ]
  },
  {
   "cell_type": "markdown",
   "metadata": {},
   "source": [
    "this is a step:how to install the matplotlib,you can reference this link:https://blog.csdn.net/not_give_up_/article/details/79058272\n",
    "1. Ball Class\n",
    "    draw is responsible for moving Ball\n",
    "    Collision detection, bounce, Ball detection of Paddle \n",
    "2. Paddle Class\n",
    "    draw is responsible for moving Paddle\n",
    "    Collision detection to determine whether or not to continue ,Monitor keyboard events\n",
    "3. main cycle\n",
    "    Drawing the Ball and Paddle"
   ]
  },
  {
   "cell_type": "code",
   "execution_count": null,
   "metadata": {},
   "outputs": [],
   "source": [
    "## write your answer here!\n",
    "try:\n",
    "    import Tkinter, random, time, sys\n",
    "except:\n",
    "    import tkinter as Tkinter,sys ,random, time\n",
    "\n",
    "# -------- Gaming Display -----------------------------\n",
    "class GameDisplay:\n",
    "    def __init__(self, canvas):\n",
    "        self.canvas=canvas\n",
    "        self.widthlimit=canvas.winfo_screenwidth()\n",
    "        self.heightlimit=canvas.winfo_screenheight()\n",
    "        y2=canvas.winfo_screenheight()-70\n",
    "        y1=y2-15\n",
    "        self.bat=Tkinter.Canvas.create_rectangle(canvas, 0, y1,200, y2, fill='steelblue')\n",
    "        self.ball=Tkinter.Canvas.create_oval(canvas, 0, 0,50,50, fill='lightgreen')\n",
    "        self.xvelocity=2\n",
    "        self.yvelocity=2\n",
    "        \n",
    "    def update(self, event=None):\n",
    "        x1,y1,x2,y2=self.canvas.coords(self.ball)\n",
    "        a,b,c,d=self.canvas.coords(self.bat)\n",
    "        k=len(self.canvas.find_overlapping(a,b,c,d))\n",
    "        if x1<=0:\n",
    "            self.xvelocity=2\n",
    "            self.canvas.move(self.ball,self.xvelocity,0)\n",
    "            pass\n",
    "        elif y2>=self.heightlimit:\n",
    "            x=self.canvas.winfo_screenwidth()/2\n",
    "            y=self.canvas.winfo_screenheight()/2\n",
    "            self.canvas.create_text(x,y, text='Game Over', font=('arial 50 bold'), fill='red')\n",
    "            self.canvas.master.update()\n",
    "            self.canvas.master.update_idletasks()\n",
    "            time.sleep(2)\n",
    "            self.canvas.master.destroy()\n",
    "            sys.exit(0)\n",
    "            pass\n",
    "        elif x2>=self.widthlimit:\n",
    "            self.xvelocity=-2\n",
    "            self.canvas.move(self.ball,self.xvelocity,0)\n",
    "        elif y1<=0:\n",
    "            self.yvelocity=2\n",
    "            self.canvas.move(self.ball, 0, self.yvelocity)\n",
    "        elif k==2:\n",
    "            self.yvelocity=-2\n",
    "            self.canvas.move(self.ball, 0, self.yvelocity)            \n",
    "        else:\n",
    "            self.canvas.move(self.ball, self.xvelocity, self.yvelocity)\n",
    "\n",
    "        pass\n",
    "        \n",
    "    def update_bat(self, event=None):\n",
    "        direction=event.keysym\n",
    "        x1,x2,y1,y2=self.canvas.coords(self.bat)\n",
    "        if y1>self.widthlimit:\n",
    "            if direction=='Left':\n",
    "                self.canvas.move(self.bat, -20,0)\n",
    "                pass\n",
    "        elif x1<0:\n",
    "            if direction=='Right':\n",
    "                self.canvas.move(self.bat, 20,0)\n",
    "                pass\n",
    "            \n",
    "        elif direction=='Right':\n",
    "            self.canvas.move(self.bat, 20,0)\n",
    "        elif direction=='Left':\n",
    "            self.canvas.move(self.bat, -20,0)\n",
    "        else:\n",
    "            pass        \n",
    "\n",
    "\n",
    "# --------- Main Window Graphic  ----------------------\n",
    "class main:\n",
    "    def __init__(self):\n",
    "        root=Tkinter.Tk(className='Bouncing Game')\n",
    "        w, h=root.winfo_screenwidth(), root.winfo_screenheight()\n",
    "        canvas=Tkinter.Canvas(root, background='grey', width=w, height=h)\n",
    "        canvas.pack()\n",
    "        game=GameDisplay(canvas)\n",
    "        for seq in ['<Any-KeyPress>']:\n",
    "            root.bind_all(seq,game.update_bat)\n",
    "        # Creating Transpareny\n",
    "        root.wait_visibility(canvas)\n",
    "        root.wm_attributes('-alpha',0.7)\n",
    "        # Custom Main loop\n",
    "        while True:\n",
    "            time.sleep(0.01)\n",
    "            game.update()\n",
    "            root.update()\n",
    "            root.update_idletasks()\n",
    "\n",
    "# ======= Trigger ==============\n",
    "if __name__=='__main__':\n",
    "    main()"
   ]
  }
 ],
 "metadata": {
  "kernelspec": {
   "display_name": "Python 3",
   "language": "python",
   "name": "python3"
  },
  "language_info": {
   "codemirror_mode": {
    "name": "ipython",
    "version": 3
   },
   "file_extension": ".py",
   "mimetype": "text/x-python",
   "name": "python",
   "nbconvert_exporter": "python",
   "pygments_lexer": "ipython3",
   "version": "3.6.5"
  }
 },
 "nbformat": 4,
 "nbformat_minor": 2
}
